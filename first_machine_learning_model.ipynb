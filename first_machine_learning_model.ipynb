{
 "cells": [
  {
   "cell_type": "markdown",
   "id": "116b7750",
   "metadata": {
    "papermill": {
     "duration": 0.012036,
     "end_time": "2022-10-02T11:00:10.574327",
     "exception": false,
     "start_time": "2022-10-02T11:00:10.562291",
     "status": "completed"
    },
    "tags": []
   },
   "source": [
    "**This notebook is an exercise in the [Introduction to Machine Learning](https://www.kaggle.com/learn/intro-to-machine-learning) course.  You can reference the tutorial at [this link](https://www.kaggle.com/dansbecker/your-first-machine-learning-model).**\n",
    "\n",
    "---\n"
   ]
  },
  {
   "cell_type": "markdown",
   "id": "8f352d35",
   "metadata": {
    "papermill": {
     "duration": 0.007702,
     "end_time": "2022-10-02T11:00:10.591200",
     "exception": false,
     "start_time": "2022-10-02T11:00:10.583498",
     "status": "completed"
    },
    "tags": []
   },
   "source": [
    "## Recap\n",
    "So far, you have loaded your data and reviewed it with the following code. Run this cell to set up your coding environment where the previous step left off."
   ]
  },
  {
   "cell_type": "code",
   "execution_count": 1,
   "id": "778b679f",
   "metadata": {
    "execution": {
     "iopub.execute_input": "2022-10-02T11:00:10.610404Z",
     "iopub.status.busy": "2022-10-02T11:00:10.609455Z",
     "iopub.status.idle": "2022-10-02T11:00:11.922986Z",
     "shell.execute_reply": "2022-10-02T11:00:11.921624Z"
    },
    "papermill": {
     "duration": 1.327536,
     "end_time": "2022-10-02T11:00:11.926522",
     "exception": false,
     "start_time": "2022-10-02T11:00:10.598986",
     "status": "completed"
    },
    "tags": []
   },
   "outputs": [
    {
     "name": "stdout",
     "output_type": "stream",
     "text": [
      "Setup Complete\n"
     ]
    }
   ],
   "source": [
    "# Code you have previously used to load data\n",
    "import pandas as pd\n",
    "\n",
    "# Path of the file to read\n",
    "iowa_file_path = '../input/home-data-for-ml-course/train.csv'\n",
    "\n",
    "home_data = pd.read_csv(iowa_file_path)\n",
    "\n",
    "# Set up code checking\n",
    "from learntools.core import binder\n",
    "binder.bind(globals())\n",
    "from learntools.machine_learning.ex3 import *\n",
    "\n",
    "print(\"Setup Complete\")"
   ]
  },
  {
   "cell_type": "markdown",
   "id": "9cce8fd4",
   "metadata": {
    "papermill": {
     "duration": 0.004822,
     "end_time": "2022-10-02T11:00:11.937563",
     "exception": false,
     "start_time": "2022-10-02T11:00:11.932741",
     "status": "completed"
    },
    "tags": []
   },
   "source": [
    "# Exercises\n",
    "\n",
    "## Step 1: Specify Prediction Target\n",
    "Select the target variable, which corresponds to the sales price. Save this to a new variable called `y`. You'll need to print a list of the columns to find the name of the column you need.\n"
   ]
  },
  {
   "cell_type": "code",
   "execution_count": 2,
   "id": "f5165fdb",
   "metadata": {
    "execution": {
     "iopub.execute_input": "2022-10-02T11:00:11.949078Z",
     "iopub.status.busy": "2022-10-02T11:00:11.948712Z",
     "iopub.status.idle": "2022-10-02T11:00:11.957708Z",
     "shell.execute_reply": "2022-10-02T11:00:11.956620Z"
    },
    "papermill": {
     "duration": 0.017628,
     "end_time": "2022-10-02T11:00:11.960118",
     "exception": false,
     "start_time": "2022-10-02T11:00:11.942490",
     "status": "completed"
    },
    "tags": []
   },
   "outputs": [
    {
     "data": {
      "text/plain": [
       "Index(['Id', 'MSSubClass', 'MSZoning', 'LotFrontage', 'LotArea', 'Street',\n",
       "       'Alley', 'LotShape', 'LandContour', 'Utilities', 'LotConfig',\n",
       "       'LandSlope', 'Neighborhood', 'Condition1', 'Condition2', 'BldgType',\n",
       "       'HouseStyle', 'OverallQual', 'OverallCond', 'YearBuilt', 'YearRemodAdd',\n",
       "       'RoofStyle', 'RoofMatl', 'Exterior1st', 'Exterior2nd', 'MasVnrType',\n",
       "       'MasVnrArea', 'ExterQual', 'ExterCond', 'Foundation', 'BsmtQual',\n",
       "       'BsmtCond', 'BsmtExposure', 'BsmtFinType1', 'BsmtFinSF1',\n",
       "       'BsmtFinType2', 'BsmtFinSF2', 'BsmtUnfSF', 'TotalBsmtSF', 'Heating',\n",
       "       'HeatingQC', 'CentralAir', 'Electrical', '1stFlrSF', '2ndFlrSF',\n",
       "       'LowQualFinSF', 'GrLivArea', 'BsmtFullBath', 'BsmtHalfBath', 'FullBath',\n",
       "       'HalfBath', 'BedroomAbvGr', 'KitchenAbvGr', 'KitchenQual',\n",
       "       'TotRmsAbvGrd', 'Functional', 'Fireplaces', 'FireplaceQu', 'GarageType',\n",
       "       'GarageYrBlt', 'GarageFinish', 'GarageCars', 'GarageArea', 'GarageQual',\n",
       "       'GarageCond', 'PavedDrive', 'WoodDeckSF', 'OpenPorchSF',\n",
       "       'EnclosedPorch', '3SsnPorch', 'ScreenPorch', 'PoolArea', 'PoolQC',\n",
       "       'Fence', 'MiscFeature', 'MiscVal', 'MoSold', 'YrSold', 'SaleType',\n",
       "       'SaleCondition', 'SalePrice'],\n",
       "      dtype='object')"
      ]
     },
     "execution_count": 2,
     "metadata": {},
     "output_type": "execute_result"
    }
   ],
   "source": [
    "# print the list of columns in the dataset to find the name of the prediction target\n",
    "\n",
    "home_data.columns\n",
    "\n"
   ]
  },
  {
   "cell_type": "code",
   "execution_count": 3,
   "id": "c6665274",
   "metadata": {
    "execution": {
     "iopub.execute_input": "2022-10-02T11:00:11.972333Z",
     "iopub.status.busy": "2022-10-02T11:00:11.971988Z",
     "iopub.status.idle": "2022-10-02T11:00:11.986493Z",
     "shell.execute_reply": "2022-10-02T11:00:11.985176Z"
    },
    "papermill": {
     "duration": 0.02347,
     "end_time": "2022-10-02T11:00:11.988913",
     "exception": false,
     "start_time": "2022-10-02T11:00:11.965443",
     "status": "completed"
    },
    "tags": []
   },
   "outputs": [
    {
     "data": {
      "application/javascript": [
       "parent.postMessage({\"jupyterEvent\": \"custom.exercise_interaction\", \"data\": {\"outcomeType\": 1, \"valueTowardsCompletion\": 0.25, \"interactionType\": 1, \"questionType\": 2, \"questionId\": \"1_SetTarget\", \"learnToolsVersion\": \"0.3.4\", \"failureMessage\": \"\", \"exceptionClass\": \"\", \"trace\": \"\"}}, \"*\")"
      ],
      "text/plain": [
       "<IPython.core.display.Javascript object>"
      ]
     },
     "metadata": {},
     "output_type": "display_data"
    },
    {
     "data": {
      "text/markdown": [
       "<span style=\"color:#33cc33\">Correct</span>"
      ],
      "text/plain": [
       "Correct"
      ]
     },
     "metadata": {},
     "output_type": "display_data"
    }
   ],
   "source": [
    "y = home_data.SalePrice\n",
    "\n",
    "# Check your answer\n",
    "step_1.check()"
   ]
  },
  {
   "cell_type": "code",
   "execution_count": 4,
   "id": "b2f13dca",
   "metadata": {
    "collapsed": true,
    "execution": {
     "iopub.execute_input": "2022-10-02T11:00:12.001313Z",
     "iopub.status.busy": "2022-10-02T11:00:12.000933Z",
     "iopub.status.idle": "2022-10-02T11:00:12.005479Z",
     "shell.execute_reply": "2022-10-02T11:00:12.004463Z"
    },
    "jupyter": {
     "outputs_hidden": true
    },
    "papermill": {
     "duration": 0.013349,
     "end_time": "2022-10-02T11:00:12.007807",
     "exception": false,
     "start_time": "2022-10-02T11:00:11.994458",
     "status": "completed"
    },
    "tags": []
   },
   "outputs": [],
   "source": [
    "# The lines below will show you a hint or the solution.\n",
    "# step_1.hint() \n",
    "# step_1.solution()"
   ]
  },
  {
   "cell_type": "markdown",
   "id": "b8f9cfa6",
   "metadata": {
    "papermill": {
     "duration": 0.005184,
     "end_time": "2022-10-02T11:00:12.018439",
     "exception": false,
     "start_time": "2022-10-02T11:00:12.013255",
     "status": "completed"
    },
    "tags": []
   },
   "source": [
    "## Step 2: Create X\n",
    "Now you will create a DataFrame called `X` holding the predictive features.\n",
    "\n",
    "Since you want only some columns from the original data, you'll first create a list with the names of the columns you want in `X`.\n",
    "\n",
    "You'll use just the following columns in the list (you can copy and paste the whole list to save some typing, though you'll still need to add quotes):\n",
    "  * LotArea\n",
    "  * YearBuilt\n",
    "  * 1stFlrSF\n",
    "  * 2ndFlrSF\n",
    "  * FullBath\n",
    "  * BedroomAbvGr\n",
    "  * TotRmsAbvGrd\n",
    "\n",
    "After you've created that list of features, use it to create the DataFrame that you'll use to fit the model."
   ]
  },
  {
   "cell_type": "code",
   "execution_count": 5,
   "id": "7e457118",
   "metadata": {
    "execution": {
     "iopub.execute_input": "2022-10-02T11:00:12.031012Z",
     "iopub.status.busy": "2022-10-02T11:00:12.030607Z",
     "iopub.status.idle": "2022-10-02T11:00:12.044839Z",
     "shell.execute_reply": "2022-10-02T11:00:12.043652Z"
    },
    "papermill": {
     "duration": 0.023252,
     "end_time": "2022-10-02T11:00:12.047138",
     "exception": false,
     "start_time": "2022-10-02T11:00:12.023886",
     "status": "completed"
    },
    "tags": []
   },
   "outputs": [
    {
     "data": {
      "application/javascript": [
       "parent.postMessage({\"jupyterEvent\": \"custom.exercise_interaction\", \"data\": {\"outcomeType\": 1, \"valueTowardsCompletion\": 0.25, \"interactionType\": 1, \"questionType\": 2, \"questionId\": \"2_SelectPredictionData\", \"learnToolsVersion\": \"0.3.4\", \"failureMessage\": \"\", \"exceptionClass\": \"\", \"trace\": \"\"}}, \"*\")"
      ],
      "text/plain": [
       "<IPython.core.display.Javascript object>"
      ]
     },
     "metadata": {},
     "output_type": "display_data"
    },
    {
     "data": {
      "text/markdown": [
       "<span style=\"color:#33cc33\">Correct</span>"
      ],
      "text/plain": [
       "Correct"
      ]
     },
     "metadata": {},
     "output_type": "display_data"
    }
   ],
   "source": [
    "# Create the list of features below\n",
    "feature_names = ['LotArea', 'YearBuilt', '1stFlrSF', '2ndFlrSF', 'FullBath', 'BedroomAbvGr', 'TotRmsAbvGrd']\n",
    "\n",
    "# Select data corresponding to features in feature_names\n",
    "X = home_data[feature_names]\n",
    "\n",
    "# Check your answer\n",
    "step_2.check()"
   ]
  },
  {
   "cell_type": "code",
   "execution_count": 6,
   "id": "3d78d77c",
   "metadata": {
    "collapsed": true,
    "execution": {
     "iopub.execute_input": "2022-10-02T11:00:12.060003Z",
     "iopub.status.busy": "2022-10-02T11:00:12.059651Z",
     "iopub.status.idle": "2022-10-02T11:00:12.063311Z",
     "shell.execute_reply": "2022-10-02T11:00:12.062523Z"
    },
    "jupyter": {
     "outputs_hidden": true
    },
    "papermill": {
     "duration": 0.012857,
     "end_time": "2022-10-02T11:00:12.065630",
     "exception": false,
     "start_time": "2022-10-02T11:00:12.052773",
     "status": "completed"
    },
    "tags": []
   },
   "outputs": [],
   "source": [
    "# step_2.hint()\n",
    "# step_2.solution()"
   ]
  },
  {
   "cell_type": "markdown",
   "id": "1a8ae2db",
   "metadata": {
    "papermill": {
     "duration": 0.005218,
     "end_time": "2022-10-02T11:00:12.076464",
     "exception": false,
     "start_time": "2022-10-02T11:00:12.071246",
     "status": "completed"
    },
    "tags": []
   },
   "source": [
    "## Review Data\n",
    "Before building a model, take a quick look at **X** to verify it looks sensible"
   ]
  },
  {
   "cell_type": "code",
   "execution_count": 7,
   "id": "bdeaab59",
   "metadata": {
    "execution": {
     "iopub.execute_input": "2022-10-02T11:00:12.090752Z",
     "iopub.status.busy": "2022-10-02T11:00:12.090317Z",
     "iopub.status.idle": "2022-10-02T11:00:12.126363Z",
     "shell.execute_reply": "2022-10-02T11:00:12.125503Z"
    },
    "papermill": {
     "duration": 0.045743,
     "end_time": "2022-10-02T11:00:12.129011",
     "exception": false,
     "start_time": "2022-10-02T11:00:12.083268",
     "status": "completed"
    },
    "tags": []
   },
   "outputs": [
    {
     "name": "stdout",
     "output_type": "stream",
     "text": [
      "             LotArea    YearBuilt     1stFlrSF     2ndFlrSF     FullBath  \\\n",
      "count    1460.000000  1460.000000  1460.000000  1460.000000  1460.000000   \n",
      "mean    10516.828082  1971.267808  1162.626712   346.992466     1.565068   \n",
      "std      9981.264932    30.202904   386.587738   436.528436     0.550916   \n",
      "min      1300.000000  1872.000000   334.000000     0.000000     0.000000   \n",
      "25%      7553.500000  1954.000000   882.000000     0.000000     1.000000   \n",
      "50%      9478.500000  1973.000000  1087.000000     0.000000     2.000000   \n",
      "75%     11601.500000  2000.000000  1391.250000   728.000000     2.000000   \n",
      "max    215245.000000  2010.000000  4692.000000  2065.000000     3.000000   \n",
      "\n",
      "       BedroomAbvGr  TotRmsAbvGrd  \n",
      "count   1460.000000   1460.000000  \n",
      "mean       2.866438      6.517808  \n",
      "std        0.815778      1.625393  \n",
      "min        0.000000      2.000000  \n",
      "25%        2.000000      5.000000  \n",
      "50%        3.000000      6.000000  \n",
      "75%        3.000000      7.000000  \n",
      "max        8.000000     14.000000  \n",
      "   LotArea  YearBuilt  1stFlrSF  2ndFlrSF  FullBath  BedroomAbvGr  \\\n",
      "0     8450       2003       856       854         2             3   \n",
      "1     9600       1976      1262         0         2             3   \n",
      "2    11250       2001       920       866         2             3   \n",
      "3     9550       1915       961       756         1             3   \n",
      "4    14260       2000      1145      1053         2             4   \n",
      "\n",
      "   TotRmsAbvGrd  \n",
      "0             8  \n",
      "1             6  \n",
      "2             6  \n",
      "3             7  \n",
      "4             9  \n"
     ]
    }
   ],
   "source": [
    "# Review data\n",
    "# print description or statistics from X\n",
    "print(X.describe())\n",
    "\n",
    "# print the top few lines\n",
    "print(X.head())"
   ]
  },
  {
   "cell_type": "markdown",
   "id": "1359bd44",
   "metadata": {
    "papermill": {
     "duration": 0.005517,
     "end_time": "2022-10-02T11:00:12.140440",
     "exception": false,
     "start_time": "2022-10-02T11:00:12.134923",
     "status": "completed"
    },
    "tags": []
   },
   "source": [
    "## Step 3: Specify and Fit Model\n",
    "Create a `DecisionTreeRegressor` and save it iowa_model. Ensure you've done the relevant import from sklearn to run this command.\n",
    "\n",
    "Then fit the model you just created using the data in `X` and `y` that you saved above."
   ]
  },
  {
   "cell_type": "code",
   "execution_count": 8,
   "id": "e58d48ea",
   "metadata": {
    "execution": {
     "iopub.execute_input": "2022-10-02T11:00:12.153933Z",
     "iopub.status.busy": "2022-10-02T11:00:12.153516Z",
     "iopub.status.idle": "2022-10-02T11:00:12.173250Z",
     "shell.execute_reply": "2022-10-02T11:00:12.172132Z"
    },
    "papermill": {
     "duration": 0.029222,
     "end_time": "2022-10-02T11:00:12.175529",
     "exception": false,
     "start_time": "2022-10-02T11:00:12.146307",
     "status": "completed"
    },
    "tags": []
   },
   "outputs": [
    {
     "data": {
      "application/javascript": [
       "parent.postMessage({\"jupyterEvent\": \"custom.exercise_interaction\", \"data\": {\"outcomeType\": 1, \"valueTowardsCompletion\": 0.25, \"interactionType\": 1, \"questionType\": 2, \"questionId\": \"3_CreateModel\", \"learnToolsVersion\": \"0.3.4\", \"failureMessage\": \"\", \"exceptionClass\": \"\", \"trace\": \"\"}}, \"*\")"
      ],
      "text/plain": [
       "<IPython.core.display.Javascript object>"
      ]
     },
     "metadata": {},
     "output_type": "display_data"
    },
    {
     "data": {
      "text/markdown": [
       "<span style=\"color:#33cc33\">Correct</span>"
      ],
      "text/plain": [
       "Correct"
      ]
     },
     "metadata": {},
     "output_type": "display_data"
    }
   ],
   "source": [
    "from sklearn.tree import DecisionTreeRegressor\n",
    "#specify the model. \n",
    "#For model reproducibility, set a numeric value for random_state when specifying the model\n",
    "iowa_model = DecisionTreeRegressor(random_state=1)\n",
    "\n",
    "# Fit the model\n",
    "iowa_model.fit(X, y)\n",
    "\n",
    "# Check your answer\n",
    "step_3.check()"
   ]
  },
  {
   "cell_type": "code",
   "execution_count": 9,
   "id": "18e98d81",
   "metadata": {
    "collapsed": true,
    "execution": {
     "iopub.execute_input": "2022-10-02T11:00:12.192546Z",
     "iopub.status.busy": "2022-10-02T11:00:12.191918Z",
     "iopub.status.idle": "2022-10-02T11:00:12.197872Z",
     "shell.execute_reply": "2022-10-02T11:00:12.196465Z"
    },
    "jupyter": {
     "outputs_hidden": true
    },
    "papermill": {
     "duration": 0.019068,
     "end_time": "2022-10-02T11:00:12.201106",
     "exception": false,
     "start_time": "2022-10-02T11:00:12.182038",
     "status": "completed"
    },
    "tags": []
   },
   "outputs": [],
   "source": [
    "# step_3.hint()\n",
    "# step_3.solution()"
   ]
  },
  {
   "cell_type": "markdown",
   "id": "1858f3e3",
   "metadata": {
    "papermill": {
     "duration": 0.00625,
     "end_time": "2022-10-02T11:00:12.215163",
     "exception": false,
     "start_time": "2022-10-02T11:00:12.208913",
     "status": "completed"
    },
    "tags": []
   },
   "source": [
    "## Step 4: Make Predictions\n",
    "Make predictions with the model's `predict` command using `X` as the data. Save the results to a variable called `predictions`."
   ]
  },
  {
   "cell_type": "code",
   "execution_count": 10,
   "id": "583d4932",
   "metadata": {
    "execution": {
     "iopub.execute_input": "2022-10-02T11:00:12.234814Z",
     "iopub.status.busy": "2022-10-02T11:00:12.234376Z",
     "iopub.status.idle": "2022-10-02T11:00:12.253120Z",
     "shell.execute_reply": "2022-10-02T11:00:12.251558Z"
    },
    "papermill": {
     "duration": 0.033432,
     "end_time": "2022-10-02T11:00:12.255705",
     "exception": false,
     "start_time": "2022-10-02T11:00:12.222273",
     "status": "completed"
    },
    "tags": []
   },
   "outputs": [
    {
     "name": "stdout",
     "output_type": "stream",
     "text": [
      "[208500. 181500. 223500. ... 266500. 142125. 147500.]\n"
     ]
    },
    {
     "data": {
      "application/javascript": [
       "parent.postMessage({\"jupyterEvent\": \"custom.exercise_interaction\", \"data\": {\"outcomeType\": 1, \"valueTowardsCompletion\": 0.25, \"interactionType\": 1, \"questionType\": 2, \"questionId\": \"4_MakePredictions\", \"learnToolsVersion\": \"0.3.4\", \"failureMessage\": \"\", \"exceptionClass\": \"\", \"trace\": \"\"}}, \"*\")"
      ],
      "text/plain": [
       "<IPython.core.display.Javascript object>"
      ]
     },
     "metadata": {},
     "output_type": "display_data"
    },
    {
     "data": {
      "text/markdown": [
       "<span style=\"color:#33cc33\">Correct</span>"
      ],
      "text/plain": [
       "Correct"
      ]
     },
     "metadata": {},
     "output_type": "display_data"
    }
   ],
   "source": [
    "predictions = iowa_model.predict(X)\n",
    "print(predictions)\n",
    "\n",
    "# Check your answer\n",
    "step_4.check()"
   ]
  },
  {
   "cell_type": "code",
   "execution_count": 11,
   "id": "4939332e",
   "metadata": {
    "collapsed": true,
    "execution": {
     "iopub.execute_input": "2022-10-02T11:00:12.277189Z",
     "iopub.status.busy": "2022-10-02T11:00:12.276655Z",
     "iopub.status.idle": "2022-10-02T11:00:12.283495Z",
     "shell.execute_reply": "2022-10-02T11:00:12.281573Z"
    },
    "jupyter": {
     "outputs_hidden": true
    },
    "papermill": {
     "duration": 0.022198,
     "end_time": "2022-10-02T11:00:12.285749",
     "exception": false,
     "start_time": "2022-10-02T11:00:12.263551",
     "status": "completed"
    },
    "tags": []
   },
   "outputs": [],
   "source": [
    "# step_4.hint()\n",
    "# step_4.solution()"
   ]
  },
  {
   "cell_type": "markdown",
   "id": "51ae4951",
   "metadata": {
    "papermill": {
     "duration": 0.00617,
     "end_time": "2022-10-02T11:00:12.298547",
     "exception": false,
     "start_time": "2022-10-02T11:00:12.292377",
     "status": "completed"
    },
    "tags": []
   },
   "source": [
    "## Think About Your Results\n",
    "\n",
    "Use the `head` method to compare the top few predictions to the actual home values (in `y`) for those same homes. Anything surprising?\n"
   ]
  },
  {
   "cell_type": "code",
   "execution_count": 12,
   "id": "ae55e766",
   "metadata": {
    "execution": {
     "iopub.execute_input": "2022-10-02T11:00:12.313220Z",
     "iopub.status.busy": "2022-10-02T11:00:12.312819Z",
     "iopub.status.idle": "2022-10-02T11:00:12.329826Z",
     "shell.execute_reply": "2022-10-02T11:00:12.328232Z"
    },
    "papermill": {
     "duration": 0.027555,
     "end_time": "2022-10-02T11:00:12.332460",
     "exception": false,
     "start_time": "2022-10-02T11:00:12.304905",
     "status": "completed"
    },
    "tags": []
   },
   "outputs": [
    {
     "name": "stdout",
     "output_type": "stream",
     "text": [
      "   Id  MSSubClass MSZoning  LotFrontage  LotArea Street Alley LotShape  \\\n",
      "0   1          60       RL         65.0     8450   Pave   NaN      Reg   \n",
      "1   2          20       RL         80.0     9600   Pave   NaN      Reg   \n",
      "2   3          60       RL         68.0    11250   Pave   NaN      IR1   \n",
      "3   4          70       RL         60.0     9550   Pave   NaN      IR1   \n",
      "4   5          60       RL         84.0    14260   Pave   NaN      IR1   \n",
      "\n",
      "  LandContour Utilities  ... PoolArea PoolQC Fence MiscFeature MiscVal MoSold  \\\n",
      "0         Lvl    AllPub  ...        0    NaN   NaN         NaN       0      2   \n",
      "1         Lvl    AllPub  ...        0    NaN   NaN         NaN       0      5   \n",
      "2         Lvl    AllPub  ...        0    NaN   NaN         NaN       0      9   \n",
      "3         Lvl    AllPub  ...        0    NaN   NaN         NaN       0      2   \n",
      "4         Lvl    AllPub  ...        0    NaN   NaN         NaN       0     12   \n",
      "\n",
      "  YrSold  SaleType  SaleCondition  SalePrice  \n",
      "0   2008        WD         Normal     208500  \n",
      "1   2007        WD         Normal     181500  \n",
      "2   2008        WD         Normal     223500  \n",
      "3   2006        WD        Abnorml     140000  \n",
      "4   2008        WD         Normal     250000  \n",
      "\n",
      "[5 rows x 81 columns]\n"
     ]
    }
   ],
   "source": [
    "# You can write code in this cell\n",
    "\n",
    "\n",
    "\n",
    "print(home_data.head())\n"
   ]
  },
  {
   "cell_type": "markdown",
   "id": "d53476ec",
   "metadata": {
    "papermill": {
     "duration": 0.006376,
     "end_time": "2022-10-02T11:00:12.346619",
     "exception": false,
     "start_time": "2022-10-02T11:00:12.340243",
     "status": "completed"
    },
    "tags": []
   },
   "source": [
    "It's natural to ask how accurate the model's predictions will be and how you can improve that. That will be you're next step.\n",
    "\n",
    "# Keep Going\n",
    "\n",
    "You are ready for **[Model Validation](https://www.kaggle.com/dansbecker/model-validation).**\n"
   ]
  },
  {
   "cell_type": "markdown",
   "id": "fbf81bf9",
   "metadata": {
    "papermill": {
     "duration": 0.006204,
     "end_time": "2022-10-02T11:00:12.359457",
     "exception": false,
     "start_time": "2022-10-02T11:00:12.353253",
     "status": "completed"
    },
    "tags": []
   },
   "source": [
    "---\n",
    "\n",
    "\n",
    "\n",
    "\n",
    "*Have questions or comments? Visit the [course discussion forum](https://www.kaggle.com/learn/intro-to-machine-learning/discussion) to chat with other learners.*"
   ]
  }
 ],
 "metadata": {
  "kernelspec": {
   "display_name": "Python 3",
   "language": "python",
   "name": "python3"
  },
  "language_info": {
   "codemirror_mode": {
    "name": "ipython",
    "version": 3
   },
   "file_extension": ".py",
   "mimetype": "text/x-python",
   "name": "python",
   "nbconvert_exporter": "python",
   "pygments_lexer": "ipython3",
   "version": "3.7.12"
  },
  "papermill": {
   "default_parameters": {},
   "duration": 11.654866,
   "end_time": "2022-10-02T11:00:13.086976",
   "environment_variables": {},
   "exception": null,
   "input_path": "__notebook__.ipynb",
   "output_path": "__notebook__.ipynb",
   "parameters": {},
   "start_time": "2022-10-02T11:00:01.432110",
   "version": "2.3.4"
  }
 },
 "nbformat": 4,
 "nbformat_minor": 5
}
